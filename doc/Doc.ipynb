{
 "metadata": {
  "name": ""
 },
 "nbformat": 3,
 "nbformat_minor": 0,
 "worksheets": [
  {
   "cells": [
    {
     "cell_type": "markdown",
     "metadata": {},
     "source": [
      "#Introduction\n",
      "\n",
      "This document aims explain briefly the concepts used in our thesis for future references and documentation process.\n",
      "\n",
      "The main objetive is to use bayesians methods to perform data inference, in the first stage we will work in linear regression.\n",
      "\n",
      " "
     ]
    },
    {
     "cell_type": "markdown",
     "metadata": {},
     "source": [
      "# Chapter One\n",
      "##Linear Regression\n",
      "\n",
      "Problem : Suppose we observe a variable x and we wish predict the value of a target value t.\n",
      "\n",
      "Variables : $ X \\equiv {\\{x_1 , x_2 ,... x_n\\}}^T$ , $ t \\equiv {\\{t_1 , t_2 ,... t_n\\}}^T$, which represents the training set.\n",
      "\n",
      "Assume the data were generated independently and was added a normal (gaussian) noise.\n",
      "\n",
      "Now for a new value of $x$, we want predict the more accurrate value of $t$, also we can express our uncertainly over the value of $t$ using a probability distribution.\n"
     ]
    },
    {
     "cell_type": "markdown",
     "metadata": {},
     "source": [
      "### First probabilistic approach.\n",
      "\n",
      "Let's define $p(t|x, w, \\beta)$ as a predictive distribution.\n",
      "\n",
      "![tales](files/predictive_dist.png)\n",
      "\n"
     ]
    },
    {
     "cell_type": "code",
     "collapsed": false,
     "input": [
      "#! /usr/bin/python\n",
      "# Let's code !\n",
      "print \"Hello world\""
     ],
     "language": "python",
     "metadata": {},
     "outputs": [
      {
       "output_type": "stream",
       "stream": "stdout",
       "text": [
        "Hello world\n"
       ]
      }
     ],
     "prompt_number": 4
    },
    {
     "cell_type": "code",
     "collapsed": false,
     "input": [
      "#! /usr/bin/python\n",
      "\n",
      "\n",
      "\n",
      "from pylab import *\n",
      "\n",
      "\n",
      "\n",
      "def m_load(fname) :\n",
      "    return fromfile('../src/'+fname, sep=' ')\n",
      "\n",
      "def m_print() : \n",
      "    \n",
      "    X  = m_load('x.mio')\n",
      "    Y  = m_load('y.mio')\n",
      "    Xo = m_load('xo.mio')\n",
      "    Yo = m_load('yo.mio')\n",
      "    \n",
      "    plot(X,Y)\n",
      "    plot(Xo,Yo,'xr')\n",
      "    hold()\n",
      "    show()\n",
      "\n",
      "    \n",
      "m_print()\n"
     ],
     "language": "python",
     "metadata": {},
     "outputs": [],
     "prompt_number": 3
    },
    {
     "cell_type": "code",
     "collapsed": false,
     "input": [],
     "language": "python",
     "metadata": {},
     "outputs": []
    }
   ],
   "metadata": {}
  }
 ]
}