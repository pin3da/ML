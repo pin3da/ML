{
 "metadata": {
  "name": ""
 },
 "nbformat": 3,
 "nbformat_minor": 0,
 "worksheets": [
  {
   "cells": [
    {
     "cell_type": "markdown",
     "metadata": {},
     "source": [
      "## ML project\n",
      "\n",
      "Lorem ipsum dolor sit amet, consectetur adipiscing elit. Aliquam et viverra felis, vehicula malesuada turpis. Suspendisse at urna sed lacus venenatis tempus. Phasellus non lobortis lorem. Nulla sed viverra massa. Nunc odio eros, rutrum tincidunt enim dictum, sollicitudin ullamcorper justo. Ut nec magna eros. Maecenas vel est lacus. Vivamus non dolor dignissim, vestibulum libero ut, iaculis sem. Integer nec risus massa. Maecenas arcu tellus, adipiscing in ante nec, sagittis pellentesque nulla. Sed eget porta sapien, nec porta sem. Curabitur in convallis mauris. "
     ]
    },
    {
     "cell_type": "code",
     "collapsed": false,
     "input": [
      "#! /usr/bin/python\n",
      "# Let's code !\n",
      "print \"Hello world\""
     ],
     "language": "python",
     "metadata": {},
     "outputs": [
      {
       "output_type": "stream",
       "stream": "stdout",
       "text": [
        "Hello world\n"
       ]
      }
     ],
     "prompt_number": 4
    },
    {
     "cell_type": "code",
     "collapsed": false,
     "input": [
      "#! /usr/bin/python\n",
      "\n",
      "import matplotlib.pyplot as plt\n",
      "import numpy as np\n",
      "\n",
      "def m_load(fname) :\n",
      "    return np.fromfile(fname, sep=' ')\n",
      "\n",
      "def m_print() : \n",
      "    \n",
      "    X  = m_load('../src/x.mio')\n",
      "    Y  = m_load('../src/y.mio')\n",
      "    Xo = m_load('../src/xo.mio')\n",
      "    Yo = m_load('../src/yo.mio')\n",
      "    \n",
      "    plt.plot(X,Y)\n",
      "    plt.plot(Xo,Yo,'xr')\n",
      "    plt.hold()\n",
      "    plt.show()\n",
      "\n",
      "    \n",
      "m_print()\n"
     ],
     "language": "python",
     "metadata": {},
     "outputs": [],
     "prompt_number": 9
    },
    {
     "cell_type": "code",
     "collapsed": false,
     "input": [],
     "language": "python",
     "metadata": {},
     "outputs": []
    }
   ],
   "metadata": {}
  }
 ]
}